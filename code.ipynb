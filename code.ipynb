{
 "cells": [
  {
   "cell_type": "markdown",
   "id": "1ec3255c",
   "metadata": {},
   "source": [
    "<h3 style=\"color: #000000; font-weight: bold;\"> Gen AI Project: Building a Finantial Bot </h3>"
   ]
  },
  {
   "cell_type": "markdown",
   "id": "976e7cf7",
   "metadata": {},
   "source": [
    "##### **Goal of the Project** : The objective of the project is to deploy a chatbot capable of providing financial advice based on the book **_Rich Dad Poor Dad_** by **Robert T. Kiyosaki**.\n"
   ]
  },
  {
   "cell_type": "code",
   "execution_count": 1,
   "id": "bea0d65a",
   "metadata": {},
   "outputs": [],
   "source": [
    "# importing the libraries\n",
    "\n",
    "import os\n",
    "from langchain.document_loaders import PyPDFLoader\n",
    "from langchain.text_splitter import CharacterTextSplitter\n",
    "from langchain_openai import OpenAIEmbeddings\n",
    "from dotenv import load_dotenv\n",
    "from langchain.vectorstores import Chroma\n",
    "from chromadb.config import Settings\n",
    "import chromadb\n",
    "import openai"
   ]
  },
  {
   "cell_type": "markdown",
   "id": "a8a027c7",
   "metadata": {},
   "source": [
    "<h3 style=\"color: #000000; font-weight: bold;\"> ETL </h3>"
   ]
  },
  {
   "cell_type": "code",
   "execution_count": 2,
   "id": "3fb9c38b-2a4a-49c3-9feb-2280a1038dc9",
   "metadata": {},
   "outputs": [],
   "source": [
    "# PDF location for retrieving the data\n",
    "document_dir = \"./\"\n",
    "filename = \"Rich Dad Poor Dad.pdf\"\n",
    "file_path = os.path.join(document_dir, filename)"
   ]
  },
  {
   "cell_type": "code",
   "execution_count": 3,
   "id": "bdf57128-15f0-4496-9ca1-99ade5731f13",
   "metadata": {},
   "outputs": [
    {
     "data": {
      "text/plain": [
       "239"
      ]
     },
     "execution_count": 3,
     "metadata": {},
     "output_type": "execute_result"
    }
   ],
   "source": [
    "# Load and split the document\n",
    "loader = PyPDFLoader(file_path)\n",
    "pages = loader.load_and_split()\n",
    "len(pages)"
   ]
  },
  {
   "cell_type": "code",
   "execution_count": 4,
   "id": "b86f0e94-dd96-46a2-babe-d4eabdedb80a",
   "metadata": {},
   "outputs": [
    {
     "data": {
      "text/plain": [
       "239"
      ]
     },
     "execution_count": 4,
     "metadata": {},
     "output_type": "execute_result"
    }
   ],
   "source": [
    "# Split pages into chunks\n",
    "text_splitter = CharacterTextSplitter(chunk_size=10000, chunk_overlap=0) # CharacterTextSplitter - \n",
    "chunks = text_splitter.split_documents(pages)\n",
    "len(chunks)"
   ]
  },
  {
   "cell_type": "code",
   "execution_count": 5,
   "id": "7040d1cf-3b5a-4698-b50f-27ceb557a25c",
   "metadata": {},
   "outputs": [],
   "source": [
    "load_dotenv()\n",
    "api_key = os.getenv(\"OPENAI_API_KEY\")\n",
    "embeddings = OpenAIEmbeddings(model=\"text-embedding-3-large\")"
   ]
  },
  {
   "cell_type": "code",
   "execution_count": 6,
   "id": "6fa1f166-a4b9-4d09-9c50-ee6c6eddf3c6",
   "metadata": {},
   "outputs": [],
   "source": [
    "client = chromadb.PersistentClient(path=\"./chroma_db\") # initializes the new environment , what kind of client"
   ]
  },
  {
   "cell_type": "code",
   "execution_count": 7,
   "id": "457122d7-e448-43e0-aba5-2a0c6999c91b",
   "metadata": {},
   "outputs": [],
   "source": [
    "db = Chroma.from_documents(chunks, embeddings, persist_directory=\"./chroma_db\", client=client)"
   ]
  },
  {
   "cell_type": "markdown",
   "id": "49e9842e",
   "metadata": {},
   "source": [
    "<h3 style=\"color: #000000; font-weight: bold;\"> System Architecture </h3>"
   ]
  },
  {
   "cell_type": "code",
   "execution_count": 8,
   "id": "d59ab266-d376-4574-bff1-dfaf2c9f857e",
   "metadata": {},
   "outputs": [],
   "source": [
    "user_question = \" I finished Ironhack Bootcamp and I invest on my education. How can I earn the money I spent?\" # User question stored in a variable\n",
    "retrieved_docs = db.similarity_search(user_question, k=5) # k is the number of documents to retrieve the context"
   ]
  },
  {
   "cell_type": "code",
   "execution_count": 9,
   "id": "a80fca4e-4faa-4288-97b2-403c6d4732aa",
   "metadata": {},
   "outputs": [
    {
     "name": "stdout",
     "output_type": "stream",
     "text": [
      "Document 1:\n",
      "ately $190,000\n",
      "was created in the asset column, and no taxes were paid.\n",
      "Which one sounds harder to you?\n",
      "1. Work hard. Pay 50% in taxes. Save what is\n",
      "left.\n",
      "Your savings then earn 5%, which is also\n",
      "taxed.\n",
      "OR\n",
      "2. Take the time to develop your ﬁnancial\n",
      "intelligence\n",
      "Harness the power of your brain and the\n",
      "asset column.\n",
      "If you use option number one, be sure to factor in how\n",
      "much time it takes you to save $190,000. Time is one of\n",
      "your greatest assets.\n",
      "Now you may understand why I silently shake my head\n",
      "when I hear parents say, “My child is doing well in school\n",
      "and receiving a good education.” It may be good, but is it\n",
      "adequate?\n",
      "I know the above investment strategy is a small one. It is\n",
      "used to illustrate how small can grow into big. Again, my\n",
      "success reﬂects the importance of a strong ﬁnancial\n",
      "foundation, which starts with a strong ﬁnancial education.\n",
      "I have said it before, but it’s worth repeating. Financial\n",
      "intelligence is made up of these four main techni\n"
     ]
    }
   ],
   "source": [
    "# Display top results\n",
    "for i, doc in enumerate(retrieved_docs[:1]): # Display top 3 results\n",
    "    print(f\"Document {i+1}:\\n{doc.page_content[36:1000]}\") # Display content "
   ]
  },
  {
   "cell_type": "markdown",
   "id": "8015252d",
   "metadata": {},
   "source": [
    "<h3 style=\"color: #000000; font-weight: bold;\"> Deployment & System Integration </h3>"
   ]
  },
  {
   "cell_type": "code",
   "execution_count": 10,
   "id": "cb4bfbde-329c-4711-b54e-31505d6cbd6f",
   "metadata": {},
   "outputs": [],
   "source": [
    "def _get_document_prompt(docs):\n",
    "    prompt = \"\\n\"\n",
    "    for doc in docs:\n",
    "        prompt += \"\\nContent:\\n\"\n",
    "        prompt += doc.page_content + \"\\n\\n\"\n",
    "    return prompt"
   ]
  },
  {
   "cell_type": "code",
   "execution_count": 11,
   "id": "8f76fd71-a2ea-4f4c-8504-8a433377782d",
   "metadata": {},
   "outputs": [
    {
     "name": "stdout",
     "output_type": "stream",
     "text": [
      "Context formatted for GPT model.\n",
      "\n",
      "Content:\n",
      "For about 30 hours of work, approximately $190,000\n",
      "was created in the asset column, and no taxes were paid.\n",
      "Which one sounds harder to you?\n",
      "1. Work hard. Pay 50% in taxes. Save what is\n",
      "left.\n",
      "Your savings then earn 5%, which is also\n",
      "taxed.\n",
      "OR\n",
      "2. Take the time to develop your ﬁnancial\n",
      "intelligence\n",
      "Harness the power of your brain and the\n",
      "asset column.\n",
      "If you use option number one, be sure to factor in how\n",
      "much time it takes you to save $190,000. Time is one of\n",
      "your greatest assets.\n",
      "Now you may understand why I silently shake my head\n",
      "when I hear parents say, “My child is doing well in school\n",
      "and receiving a good education.” It may be good, but is it\n",
      "adequate?\n",
      "I know the above investment strategy is a small one. It is\n",
      "used to illustrate how small can grow into big. Again, my\n",
      "success reﬂects the importance of a strong ﬁnancial\n",
      "foundation, which starts with a strong ﬁnancial education.\n",
      "I have said it before, but it’s worth repeating. Financial\n",
      "intelligence is made up of these four main technical skills:\n",
      "1. Accounting\n",
      "\n",
      "\n",
      "Content:\n",
      "courses?\n",
      "The reason is, that ﬁrst personal-development seminar\n",
      "rekindled my love of learning, but not the type of learning\n",
      "that is taught in school. Once that seminar was over, I\n",
      "became a seminar junkie, going from seminar to seminar,\n",
      "ﬁnding out more about the connection between my body,\n",
      "my mind, my emotions, and my spirit.\n",
      "The more I studied, the more curious about traditional\n",
      "education I became. I began to ask questions such as:\n",
      "• Why do so many kids hate school?\n",
      "• Why do so few kids like school?\n",
      "• Why are many highly educated people not successful\n",
      "in the real world?\n",
      "• Does school prepare you for the real world?\n",
      "• Why did I hate school but love learning?\n",
      "• Why are most schoolteachers poor?\n",
      "• Why do schools teach us little about money?\n",
      "Those questions led me to become a student of education\n",
      "outside the hallowed walls of the school system. The more I\n",
      "studied, the more I understood why I did not like school and\n",
      "why schools failed to serve most of its students, even the “A”\n",
      "students.\n",
      "My curiosity touched my spirit, and I became an\n",
      "entrepreneur in education. If not for this curiosity, I might\n",
      "never have become an author and a developer of ﬁnancial-\n",
      "education games. My spiritual education led me to my path\n",
      "in life.\n",
      "It seems that our paths in life are not found in our minds.\n",
      "Our path in life is to ﬁnd out what is in our hearts.\n",
      "\n",
      "\n",
      "Content:\n",
      "Rich dad was proud of me. My educated dad was\n",
      "ashamed. Being an intellectual, he thought that salespeople\n",
      "were below him. I worked with Xerox for four years until I\n",
      "overcame my fear of knocking on doors and being rejected.\n",
      "Once I could consistently be in the top ﬁve in sales, I again\n",
      "resigned and moved on, leaving behind another great\n",
      "career with an excellent company.\n",
      "In 1977, I formed my ﬁrst company. Rich dad had\n",
      "groomed Mike and me to take over companies. So I now\n",
      "had to learn to form them and put them together. My ﬁrst\n",
      "product, the nylon-and-Velcro wallet, was manufactured in\n",
      "the Far East and shipped to a warehouse in New York, near\n",
      "where I had gone to school. My formal education was\n",
      "complete, and it was time to test my wings. If I failed, I\n",
      "would go broke. Rich dad thought it best to go broke before\n",
      "30. “You still have time to recover” was his advice. On the\n",
      "eve of my 30th birthday, my ﬁrst shipment left Korea for\n",
      "New York.\n",
      "Job is an acronym for “Just Over Broke.”\n",
      "Today, I still do business internationally. And as my rich\n",
      "dad encouraged me to do, I keep seeking the emerging\n",
      "nations. Today my investment company invests in South\n",
      "American countries and Asian countries, as well as in\n",
      "Norway and Russia.\n",
      "There is an old cliché that goes: “Job is an acronym for\n",
      "‘Just Over Broke.’” Unfortunately, I would say that applies\n",
      "to millions of people. Because school does not think\n",
      "ﬁnancial intelligence is an intelligence, most workers live\n",
      "within their means. They work and they pay the bills.\n",
      "\n",
      "\n",
      "Content:\n",
      "Invest ﬁrst in education. In reality, the only real asset you\n",
      "have is your mind, the most powerful tool we have dominion\n",
      "over. Each of us has the choice of what we put in our brain\n",
      "once we’re old enough. You can watch TV, read golf\n",
      "magazines, or go to ceramics class or a class on ﬁnancial\n",
      "planning. You choose. Most people simply buy investments\n",
      "rather than ﬁrst investing in learning about investing.\n",
      "A friend of mine recently had her apartment burglarized.\n",
      "The thieves took her electronics and left all the books. And\n",
      "we all have that same choice. 90 percent of the population\n",
      "buys TV sets, and only about 10 percent buy business\n",
      "books.\n",
      "So what do I do? I go to seminars. I like it when they are\n",
      "at least two days long because I like to immerse myself in a\n",
      "subject. In 1973, I was watching this guy on TV who was\n",
      "advertising a three-day seminar on how to buy real estate\n",
      "for nothing down. I spent $385 and that course has made\n",
      "me at least $2 million, if not more. But more importantly, it\n",
      "bought me life. I don’t have to work for the rest of my life\n",
      "because of that one course. I go to at least two such courses\n",
      "every year.\n",
      "I love CDs and audio books. The reason: I can easily\n",
      "review what I just heard. I was listening to an investor say\n",
      "something I completely disagreed with. Instead of\n",
      "becoming arrogant and critical, I simply listened to that\n",
      "ﬁve-minute stretch at least 20 times, maybe more. But\n",
      "suddenly, by keeping my mind open, I understood why he\n",
      "said what he said. It was like magic. I felt like I had a\n",
      "window into the mind of one of the greatest investors of our\n",
      "time. I gained tremendous insight into the vast resources of\n",
      "his education and experience.\n",
      "The net result: I still have the old way I used to think,\n",
      "and I now have a new way of looking at the same problem\n",
      "or situation. I have two ways to analyze a problem or trend,\n",
      "and that is priceless. Today, I often say, “How would Donald\n",
      "Trump do this, or Warren Buﬀett or George Soros?” The\n",
      "\n",
      "\n",
      "Content:\n",
      "learn how to communicate in short-cuts that are used in\n",
      "successful advertising. She also would spend time learning\n",
      "public relations, an important skill. She would learn how to\n",
      "get millions in free publicity. Then, at night and on\n",
      "weekends, she could be writing her great novel. When it\n",
      "was ﬁnished, she would be better able to sell her book.\n",
      "Then, in a short while, she could be a “best-selling author.”\n",
      "When I came out with my ﬁrst book, If You Want To Be\n",
      "Rich and Happy, Don’t Go to School, a publisher suggested\n",
      "I change the title to The Economics of Education. I told the\n",
      "publisher that, with a title like that, I would sell two books:\n",
      "one to my family, and one to my best friend. The problem is\n",
      "that they would expect it for free. The obnoxious title, If You\n",
      "Want To Be Rich and Happy, Don’t Go to School, was\n",
      "chosen because we knew it would get tons of publicity. I am\n",
      "pro-education and believe in education reform. If I were not\n",
      "pro-education, why would I continue to press for changing\n",
      "our antiquated educational system? So I chose a title that\n",
      "would get me on more TV and radio shows, simply because\n",
      "I was willing to be controversial. Many people thought I was\n",
      "a fruitcake, but the book sold and sold.\n",
      "When I graduated from the U.S. Merchant Marine\n",
      "Academy in 1969, my educated dad was happy. Standard\n",
      "Oil of California had hired me for its oil-tanker ﬂeet as a\n",
      "third mate. The pay was low compared with my classmates,\n",
      "but it was okay for a ﬁrst real job after college. My starting\n",
      "pay was about $42,000 a year, including overtime, and I\n",
      "only had to work for seven months. I had ﬁve months of\n",
      "vacation. If I had wanted to, I could have taken the run to\n",
      "Vietnam with a subsidiary shipping company and easily\n",
      "doubled my pay instead of taking ﬁve months of vacation.\n",
      "I had a great career ahead of me, yet I resigned after six\n",
      "months with the company and joined the Marine Corps to\n",
      "learn how to ﬂy. My educated dad was devastated. Rich dad\n",
      "congratulated me.\n",
      "\n",
      "\n"
     ]
    }
   ],
   "source": [
    "# Generate a formatted context from the retrieved documents\n",
    "formatted_context = _get_document_prompt(retrieved_docs)\n",
    "print(\"Context formatted for GPT model.{}\".format(formatted_context))"
   ]
  },
  {
   "cell_type": "markdown",
   "id": "248fbe09",
   "metadata": {},
   "source": [
    "<h3 style=\"color: #000000; font-weight: bold;\"> NLP & Promp engineering </h3>"
   ]
  },
  {
   "cell_type": "code",
   "execution_count": 16,
   "id": "adc5ce2d",
   "metadata": {},
   "outputs": [
    {
     "name": "stdout",
     "output_type": "stream",
     "text": [
      "Prompt constructed.\n"
     ]
    }
   ],
   "source": [
    "prompt = f\"\"\"\n",
    "## SYSTEM ROLE\n",
    "You are a highly knowledgeable and creative chatbot designed to assist with financial advice based on the principles outlined in **Rich Dad Poor Dad**.  \n",
    "Your responses must be rooted exclusively in the provided content, focusing on explaining, comparing, and contextualizing key concepts.\n",
    "\n",
    "## USER QUESTION\n",
    "The user has asked:  \n",
    "**\"{user_question}\"**\n",
    "\n",
    "## CONTEXT\n",
    "Here is the relevant content from the technical books:  \n",
    "'''\n",
    "{formatted_context}\n",
    "'''\n",
    "\n",
    "## GUIDELINES\n",
    "1. **Accuracy**:  \n",
    "   - Use only the information provided in the `CONTEXT` section to answer the question.  \n",
    "   - If the context does not contain relevant information, clearly state: \"The provided context does not contain this information.\"  \n",
    "   - Begin by explaining the significance of the user's question.  \n",
    "   - Follow up with a structured explanation, including:  \n",
    "     - The perspective of **Rich Dad**.  \n",
    "     - The perspective of **Poor Dad**.  \n",
    "     - A comparison of both approaches.  \n",
    "   - Conclude by highlighting why the **Rich Dad** approach is advantageous.  \n",
    "   - Use analogies to engage the user and deepen their understanding.\n",
    "\n",
    "2. **Formatting**:  \n",
    "   - Keep the response concise.  \n",
    "   - If the answer is too long, split it into shorter sentences and write the continuation on the next line.  \n",
    "   - Highlight **Rich Dad** and **Poor Dad** in bold for clarity.  \n",
    "   - Ensure the user's question appears in bold to differentiate it from the answer.\n",
    "\n",
    "3. **Transparency**:  \n",
    "   - Reference the book title whenever possible to provide credibility to the response.  \n",
    "   - Avoid adding opinions or speculation outside the given context.\n",
    "\n",
    "4. **Clarity**:  \n",
    "   - Use concise, professional, and user-friendly language.  \n",
    "   - Format the response in Markdown for enhanced readability.  \n",
    "\n",
    "## TASK\n",
    "1. Provide a direct and comprehensive answer to the user's question.  \n",
    "2. Incorporate the **Rich Dad** and **Poor Dad** perspectives into your explanation.  \n",
    "3. Use an analogy to simplify complex concepts and make the response more relatable.  \n",
    "4. Deliver the response in the following format:\n",
    "\n",
    "## RESPONSE FORMAT\n",
    "'''\n",
    "# [Title Reflecting the Answer]\n",
    "**User Question:**  \n",
    "**[The user's question.]**\n",
    "\n",
    "**Answer:**  \n",
    "[Provide a clear and concise answer to the question. If the answer is too long, continue on the next line.]\n",
    "\n",
    "**Comparison:**  \n",
    "- **Rich Dad Approach**: [Explanation of this approach. Keep it concise.]  \n",
    "  [Continue explanation if needed.]  \n",
    "- **Poor Dad Approach**: [Explanation of this approach. Keep it concise.]  \n",
    "  [Continue explanation if needed.]  \n",
    "- **Why Rich Dad's Approach is Better**: [Reasoning. Keep it concise.]  \n",
    "  [Continue explanation if needed.]\n",
    "\n",
    "**Analogy:**  \n",
    "[Provide a simple and engaging analogy to support the explanation.]\n",
    "\n",
    "**Source**:  \n",
    "• [Book Title], Page(s): [...]\n",
    "'''\n",
    "\"\"\"\n",
    "print(\"Prompt constructed.\")\n"
   ]
  },
  {
   "cell_type": "markdown",
   "id": "8c998653",
   "metadata": {},
   "source": [
    "<h3 style=\"color: #000000; font-weight: bold;\"> Maintenance & Improvements </h3>"
   ]
  },
  {
   "cell_type": "code",
   "execution_count": 13,
   "id": "d6781e18-d750-4d02-8db6-3ce104b17053",
   "metadata": {},
   "outputs": [],
   "source": [
    "# Set up GPT client and parameters\n",
    "client = openai.OpenAI()\n",
    "model_params = {\n",
    "    'model': 'gpt-4o',\n",
    "    'temperature': 0.7,  # Increase creativity\n",
    "    'max_tokens': 4000,  # Allow for longer responses\n",
    "    'top_p': 0.9,        # Use nucleus sampling\n",
    "    'frequency_penalty': 0.5,  # Reduce repetition\n",
    "    'presence_penalty': 0.6    # Encourage new topics\n",
    "}"
   ]
  },
  {
   "cell_type": "code",
   "execution_count": 14,
   "id": "7f6e2717-cae7-47f9-9ecc-d6499ccf8249",
   "metadata": {},
   "outputs": [],
   "source": [
    "messages = [{'role': 'user', 'content': prompt}]\n",
    "completion = client.chat.completions.create(messages=messages, **model_params, timeout=120)"
   ]
  },
  {
   "cell_type": "code",
   "execution_count": 15,
   "id": "44a5a9ff-0b0c-4d27-a2e7-939955edfa18",
   "metadata": {},
   "outputs": [
    {
     "name": "stdout",
     "output_type": "stream",
     "text": [
      "'''\n",
      "# Turning Education into Wealth\n",
      "\n",
      "**User Question:**  \n",
      "**\"I finished Ironhack Bootcamp and I invest on my education. How can I earn the money I spent?\"**\n",
      "\n",
      "**Answer:**  \n",
      "To earn back the money you invested in your education, focus on developing financial intelligence and leveraging your skills to create assets that generate income. Rather than just working a job, consider how you can apply what you've learned to build wealth.\n",
      "\n",
      "**Comparison:**  \n",
      "- **Rich Dad Approach**: Emphasizes building financial intelligence by investing time in learning about assets and creating them. This could mean starting a business or investing in real estate or other ventures that grow your wealth over time without being heavily taxed.\n",
      "- **Poor Dad Approach**: Focuses on traditional employment and saving what's left after taxes. This approach limits potential growth since savings are typically subject to lower interest rates and taxes.\n",
      "- **Why Rich Dad's Approach is Better**: The emphasis is on using financial knowledge to create income-generating assets, which can exponentially grow wealth compared to relying solely on salary increases and savings.\n",
      "\n",
      "**Analogy:**  \n",
      "Think of your education as planting seeds in a garden. The **Rich Dad** approach is like nurturing these seeds into fruit-bearing trees, providing continual harvests (income). Meanwhile, the **Poor Dad** approach is akin to picking the occasional flower—nice but not sustaining long-term.\n",
      "\n",
      "**Source**:  \n",
      "• \"Rich Dad Poor Dad\", Pages: Various sections related to financial intelligence and asset creation.\n",
      "'''\n"
     ]
    }
   ],
   "source": [
    "answer = completion.choices[0].message.content\n",
    "print(answer)"
   ]
  }
 ],
 "metadata": {
  "kernelspec": {
   "display_name": "Python 3",
   "language": "python",
   "name": "python3"
  },
  "language_info": {
   "codemirror_mode": {
    "name": "ipython",
    "version": 3
   },
   "file_extension": ".py",
   "mimetype": "text/x-python",
   "name": "python",
   "nbconvert_exporter": "python",
   "pygments_lexer": "ipython3",
   "version": "3.10.16"
  }
 },
 "nbformat": 4,
 "nbformat_minor": 5
}
